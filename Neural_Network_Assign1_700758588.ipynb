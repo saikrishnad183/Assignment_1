{
  "nbformat": 4,
  "nbformat_minor": 0,
  "metadata": {
    "colab": {
      "provenance": []
    },
    "kernelspec": {
      "name": "python3",
      "display_name": "Python 3"
    },
    "language_info": {
      "name": "python"
    }
  },
  "cells": [
    {
      "cell_type": "code",
      "execution_count": 2,
      "metadata": {
        "colab": {
          "base_uri": "https://localhost:8080/"
        },
        "id": "3a7O7nDG8tdS",
        "outputId": "af50dd89-4fc2-4d43-b0ba-a1b931fa1726"
      },
      "outputs": [
        {
          "output_type": "stream",
          "name": "stdout",
          "text": [
            "Enter the sample input:python\n",
            "python\n",
            "deleting the two charectors: pytn\n",
            "Reversing  the curent charectors: ntyp\n"
          ]
        }
      ],
      "source": [
        "s = input(\"Enter the sample input:\")\n",
        "print(s)\n",
        "removingtwocharectors = s.translate({ord(i): None for i in \"oh\"})\n",
        "print(\"deleting the two charectors:\", removingtwocharectors)\n",
        "print(\"Reversing  the curent charectors:\",removingtwocharectors[::-1])\n",
        "\n",
        "\n",
        "\n"
      ]
    },
    {
      "cell_type": "code",
      "source": [
        "number_1 = int(input(\"Enter the value 1:\"))\n",
        "print(number_1)\n",
        "number_2 = int(input(\"Enter the value 2:\"))\n",
        "print(number_2)\n",
        "print(\"Adding the number_1 and number_2:\", number_1 + number_2)\n",
        "print(\"Substracting the number_1 and number_2:\", number_1 - number_2)\n",
        "print(\"Multiplying the number_1 and number_2:\", number_1 * number_2)\n",
        "print(\"Dividing the number_1 and number_2:\", number_1 / number_2)"
      ],
      "metadata": {
        "colab": {
          "base_uri": "https://localhost:8080/"
        },
        "id": "JU--fR9SE_Ps",
        "outputId": "feb3fb40-dcb6-4c20-ebe2-8405c80189ee"
      },
      "execution_count": 3,
      "outputs": [
        {
          "output_type": "stream",
          "name": "stdout",
          "text": [
            "Enter the value 1:18\n",
            "18\n",
            "Enter the value 2:3\n",
            "3\n",
            "Adding the number_1 and number_2: 21\n",
            "Substracting the number_1 and number_2: 15\n",
            "Multiplying the number_1 and number_2: 54\n",
            "Dividing the number_1 and number_2: 6.0\n"
          ]
        }
      ]
    },
    {
      "cell_type": "code",
      "source": [
        "data = input(\"Enter the data:\")\n",
        "print(data)\n",
        "sentenceReplace = data.replace('python', 'pythons')\n",
        "print(\"After replacing the data:\", sentenceReplace)"
      ],
      "metadata": {
        "colab": {
          "base_uri": "https://localhost:8080/"
        },
        "id": "ivxd7IB0IIBO",
        "outputId": "5c0c8db0-289c-4c1d-b7a0-b8cdccf5321b"
      },
      "execution_count": 7,
      "outputs": [
        {
          "output_type": "stream",
          "name": "stdout",
          "text": [
            "Enter the data:python\n",
            "python\n",
            "After replacing the data: pythons\n"
          ]
        }
      ]
    },
    {
      "cell_type": "code",
      "source": [
        "score = int(input(\"Enter the score that you secured:\"))\n",
        "if score >= 90:\n",
        "        print(\"A\")\n",
        "elif score >= 80:\n",
        "        print(\"B\")\n",
        "elif score >= 70:\n",
        "         print(\"C\")\n",
        "elif score >= 60:\n",
        "         print(\"D\")\n",
        "else:\n",
        "         print(\"F\")"
      ],
      "metadata": {
        "colab": {
          "base_uri": "https://localhost:8080/"
        },
        "id": "KDTDbvEqJAaE",
        "outputId": "89c9394d-6366-4cdd-cd1d-0db67cfd0b0d"
      },
      "execution_count": 8,
      "outputs": [
        {
          "output_type": "stream",
          "name": "stdout",
          "text": [
            "Enter the score that you secured:90\n",
            "A\n"
          ]
        }
      ]
    }
  ]
}